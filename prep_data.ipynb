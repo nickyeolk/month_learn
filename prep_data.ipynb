{
 "cells": [
  {
   "cell_type": "code",
   "execution_count": 4,
   "metadata": {
    "collapsed": false
   },
   "outputs": [],
   "source": [
    "import xarray as xr\n",
    "import numpy as np\n",
    "import matplotlib.pyplot as plt\n",
    "import pandas as pd\n",
    "from sklearn.model_selection import train_test_split"
   ]
  },
  {
   "cell_type": "code",
   "execution_count": 5,
   "metadata": {
    "collapsed": false
   },
   "outputs": [
    {
     "name": "stderr",
     "output_type": "stream",
     "text": [
      "C:\\Users\\likkhian\\Anaconda3\\lib\\site-packages\\ipykernel\\__main__.py:3: RuntimeWarning: invalid value encountered in less\n",
      "  app.launch_new_instance()\n"
     ]
    }
   ],
   "source": [
    "trmm = xr.open_dataset('./trmm_daily_cut.nc')\n",
    "trmm=trmm['PPT'].data #extra data array\n",
    "trmm[trmm<0]=0 #treat nan values as 0\n",
    "np.nan_to_num(trmm,copy=False)\n",
    "trmm=trmm/(np.nanmax(trmm)) #normalize between 0,1\n",
    "dates=pd.date_range(start='1998-01-01',periods=len(trmm))\n",
    "label=np.array(dates.month)\n",
    "label=label-1"
   ]
  },
  {
   "cell_type": "code",
   "execution_count": 7,
   "metadata": {
    "collapsed": true
   },
   "outputs": [],
   "source": [
    "X_train, X_test, y_train, y_test = train_test_split(trmm, label, test_size=0.1, random_state=69)\n",
    "trmm = {'X_train':X_train,'X_test':X_test,'y_train':y_train,'y_test':y_test}"
   ]
  },
  {
   "cell_type": "code",
   "execution_count": null,
   "metadata": {
    "collapsed": false
   },
   "outputs": [],
   "source": [
    "np.save('trmm_dict.npy', trmm) \n",
    "# np.save('./trmm_data.npy',trmm)\n",
    "# np.save('./trmm_label.npy',label)"
   ]
  },
  {
   "cell_type": "code",
   "execution_count": 9,
   "metadata": {
    "collapsed": false
   },
   "outputs": [
    {
     "data": {
      "text/plain": [
       "array([10,  5,  1,  3,  9,  5,  9,  4, 11,  9,  4,  8,  7,  1,  0,  9,  1,\n",
       "        9, 11, 10,  5,  7,  8, 11,  5,  0,  9,  3, 11,  4,  8, 10,  3,  9,\n",
       "       10,  8,  2,  3,  8, 10,  4,  8,  5,  8,  0,  2,  9,  4,  9,  7,  9,\n",
       "        9,  8,  5,  2,  8,  9,  2,  9,  5,  1,  3,  9,  2,  7,  9,  3, 11,\n",
       "        7,  3,  7,  2,  9, 10,  4, 11, 11,  4,  4,  3,  5,  4,  5,  9,  3,\n",
       "       10,  3,  0,  1,  1,  8,  0,  5, 11,  7,  6, 11,  2,  0, 10,  5, 10,\n",
       "        7, 10, 11,  0,  3,  8,  7,  1,  7,  5,  1,  5, 11,  0,  4,  6,  5,\n",
       "        3,  0, 11,  1,  6, 10, 10,  1,  9, 11,  6,  9,  6,  2,  1, 11, 10,\n",
       "        2,  0,  9,  4, 10,  4, 11,  4, 11,  2,  6, 11,  1,  6,  5, 11,  9,\n",
       "        1, 10,  7,  5,  0,  8,  5,  5,  0, 11, 10,  5,  9,  1,  5,  2,  9,\n",
       "        3,  5,  4,  2,  4,  8,  2,  6,  9,  2,  2,  4,  4,  6,  4,  3, 11,\n",
       "        6, 10,  7,  7,  9, 11,  4, 11,  0, 10,  1,  6,  8,  7,  2,  3,  6,\n",
       "        8,  9,  9,  7,  2,  7, 10,  5,  9,  3,  9, 11,  3,  7,  3, 11,  9,\n",
       "        1, 11, 10,  1,  0,  1,  5,  2,  4,  3,  9,  0,  9,  6,  4,  5, 11,\n",
       "        6,  5,  3,  6,  2, 11,  2,  0,  5, 10,  5,  8,  4,  4,  7,  9, 11,\n",
       "        2,  3,  2,  3,  6,  4,  5, 10,  1, 10,  8,  3,  1,  9,  4,  2,  8,\n",
       "        1, 10,  7, 11, 11,  8,  2,  8, 10,  7,  2,  1,  5,  4,  5,  4,  4,\n",
       "        4,  1,  8,  8, 11,  2,  9,  2, 10,  7,  3, 10,  2,  1,  9,  5, 10,\n",
       "        4, 10,  8, 10, 11,  9,  6,  9,  7,  6,  9,  0,  1,  0, 10,  5,  1,\n",
       "       10,  9,  9,  8,  2,  7,  3, 10,  5,  0,  0,  3,  2, 11,  5,  0,  2,\n",
       "        7,  6,  0,  2,  1,  0,  7,  0,  6, 11, 10,  6,  2,  3,  2,  4,  1,\n",
       "       10,  8,  0,  5,  1, 10, 11,  2,  2,  8,  9,  1,  9,  3,  5,  7, 11,\n",
       "        5,  5,  0, 10,  0,  8,  8,  2,  1, 11,  5,  3,  4,  8,  8,  4,  7,\n",
       "        5, 11, 11, 11,  9, 10,  8,  9,  4,  1, 10,  6,  9,  6, 10,  2,  3,\n",
       "        6,  3,  1, 11,  9,  1,  3,  2,  8,  2,  4,  4, 10,  2, 11, 10,  2,\n",
       "        5,  7,  2,  7,  2,  6, 11,  8,  0,  0, 11,  7, 11,  1,  1,  5,  6,\n",
       "        2,  6,  4, 10,  0,  8, 11,  7,  2,  6, 10,  6,  9,  9,  8,  2,  1,\n",
       "        1,  4,  8,  0,  7,  4, 10,  1, 11, 10,  3,  0, 10,  6,  4,  8,  5,\n",
       "        7,  1,  1,  3,  2,  8, 11,  9,  9, 10,  2,  0,  9,  4,  9,  4, 11,\n",
       "        2,  0,  8, 10, 11,  3,  2, 11,  6,  9,  7,  5, 11,  4,  2,  4,  7,\n",
       "        0,  8,  8,  6,  5,  6,  8, 10,  7, 11,  3,  0,  2,  9,  3,  8,  0,\n",
       "        1,  9,  8,  3, 11,  7, 11,  8,  2,  0,  3,  1,  4, 10,  4,  3,  0,\n",
       "       10, 10,  8,  5,  6,  1,  5, 10,  1,  3,  0,  8,  0,  2,  3,  3,  0,\n",
       "        6, 11, 11,  6,  4,  9, 11, 11,  6,  5,  8,  8,  7,  0, 10,  4,  5,\n",
       "        4,  5,  5, 11,  1, 10, 10, 10, 11,  9, 11, 11,  8,  8, 10,  3,  3,\n",
       "       11,  1,  1,  4,  0, 11,  7,  3,  3, 11,  3,  7,  0,  0,  2,  8,  0,\n",
       "        5,  8,  3,  2,  1,  6,  1, 10,  9,  5,  1,  0,  1,  5,  7,  2,  1,\n",
       "        1,  3,  7,  8,  8, 11,  6,  3,  7,  8,  2,  5,  1,  4,  8, 11,  0,\n",
       "        7,  0,  0,  5,  0,  9,  3,  9,  3,  9,  3,  2,  7,  7,  4,  5,  6,\n",
       "        3,  9,  9,  6, 11, 11,  6,  0,  2,  1,  6, 11,  7,  1,  7,  5,  9,\n",
       "        0,  5,  4,  4,  6,  0, 11,  4,  7,  1,  2,  5,  5], dtype=int64)"
      ]
     },
     "execution_count": 9,
     "metadata": {},
     "output_type": "execute_result"
    }
   ],
   "source": [
    "y_test\n"
   ]
  },
  {
   "cell_type": "code",
   "execution_count": 74,
   "metadata": {
    "collapsed": false
   },
   "outputs": [],
   "source": [
    "plt.pcolormesh(trmm[130,:,:])\n",
    "plt.colorbar()\n",
    "plt.show()"
   ]
  }
 ],
 "metadata": {
  "kernelspec": {
   "display_name": "Python 3",
   "language": "python",
   "name": "python3"
  },
  "language_info": {
   "codemirror_mode": {
    "name": "ipython",
    "version": 3
   },
   "file_extension": ".py",
   "mimetype": "text/x-python",
   "name": "python",
   "nbconvert_exporter": "python",
   "pygments_lexer": "ipython3",
   "version": "3.5.2"
  }
 },
 "nbformat": 4,
 "nbformat_minor": 0
}
